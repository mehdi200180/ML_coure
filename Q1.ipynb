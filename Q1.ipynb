{
  "cells": [
    {
      "cell_type": "markdown",
      "metadata": {},
      "source": [
        "<h1 align=\"center\">Introduction to Machine Learning - 25737-2</h1>\n",
        "<h4 align=\"center\">Dr. R. Amiri</h4>\n",
        "<h4 align=\"center\">Sharif University of Technology, Spring 2024</h4>\n",
        "\n",
        "\n",
        "**<font color='red'>Plagiarism is strongly prohibited!</font>**\n",
        "\n",
        "\n",
        "**Student Name**:\n",
        "\n",
        "**Student ID**:\n",
        "\n"
      ]
    },
    {
      "cell_type": "markdown",
      "metadata": {},
      "source": [
        "## **Briefing:**\n",
        " **In this section, we are going to investigate linear regression and its extensions ridge and lasso shrinkage methods in Boston dataset.**"
      ]
    },
    {
      "cell_type": "code",
      "execution_count": 6,
      "metadata": {
        "id": "64seN6aUlOeV"
      },
      "outputs": [],
      "source": [
        "## Import necessary libraries here ##"
      ]
    },
    {
      "cell_type": "markdown",
      "metadata": {
        "id": "eg0zgkTVUvzx"
      },
      "source": [
        "**Part 1:**\n",
        "First familiarize yourself with Boston dataset. Briefly explain its features and dataset's shape. You are provided with the required dataset named **boston.csv**."
      ]
    },
    {
      "cell_type": "code",
      "execution_count": 2,
      "metadata": {
        "id": "-KRx-PBrUy1U"
      },
      "outputs": [],
      "source": [
        "## Write your code here ##"
      ]
    },
    {
      "cell_type": "markdown",
      "metadata": {
        "id": "yqs0SdCfVN9I"
      },
      "source": [
        "**Part 2:**\n",
        "Split dataset into train and test sets. Train linear regression model using all of the features. Report $R^2$ and RMSE error metrics for both train and test sets. Also report all of the coefficients."
      ]
    },
    {
      "cell_type": "code",
      "execution_count": 3,
      "metadata": {
        "id": "YTiCLuX0X-Yo"
      },
      "outputs": [],
      "source": [
        "## Write your code here ##"
      ]
    },
    {
      "cell_type": "markdown",
      "metadata": {
        "id": "M-Cu8VHFYyCw"
      },
      "source": [
        "**Part 3:**\n",
        "Now, we want to see the effect of ridge regression on learning process. To do so, set the alphas parameter as follows for synchronization:$$ alphas = 10*np.linspace (3,-3,100) *0.5$$"
      ]
    },
    {
      "cell_type": "code",
      "execution_count": 4,
      "metadata": {
        "id": "G3CJDrSabc6N"
      },
      "outputs": [],
      "source": [
        "## Write your code here ##"
      ]
    },
    {
      "cell_type": "markdown",
      "metadata": {
        "id": "qWWCitCVllhl"
      },
      "source": [
        " Now, plot the following in separate plots:\n",
        "\n",
        "1- MSE for train and test versus α\n",
        "\n",
        "2- Coefficients versus α\n",
        "\n",
        "3- Number of not-considered features versus α\n",
        "\n",
        "Finally select the optimal value of α. Report MSE, $R^2$ and coefficients.Compare this case with the linear regression case."
      ]
    },
    {
      "cell_type": "code",
      "execution_count": 7,
      "metadata": {
        "id": "41tqfiuRlmqU"
      },
      "outputs": [],
      "source": [
        "## Write your code here ##"
      ]
    },
    {
      "cell_type": "markdown",
      "metadata": {
        "id": "MTdRNyAkcUff"
      },
      "source": [
        "**Part 4:**\n",
        "Repeat Part 3 with lasso regression. Where do you think we should consider using lasso regression?"
      ]
    },
    {
      "cell_type": "code",
      "execution_count": 5,
      "metadata": {
        "id": "-F5754bDc4re"
      },
      "outputs": [],
      "source": [
        "## Write your code here ##"
      ]
    },
    {
      "cell_type": "markdown",
      "metadata": {
        "id": "OYFVI_XCc84X"
      },
      "source": [
        "**Part 5:**\n",
        "In this part, we intend to see the effect of ridge and lasso regression methods in overfitting prevention. In order to do this, change the ratio of training data to the whole data from low to high. As you know, the lower the ratio of trainig data, the more likely the overfitting would be. for each ratio, fit linear regression, ridge regression and lasso regression to data and then plot the following:\n",
        "\n",
        "1- $R^2$ for test data versus ratio of training data (Three methods in one plot)\n",
        "\n",
        "2- Selected α value versus training data ratio for ridge and lasso regression methods (In one plot)\n",
        "\n",
        "How is the overall behavior of these plots and how do you analyze them?"
      ]
    },
    {
      "cell_type": "code",
      "execution_count": null,
      "metadata": {
        "id": "EUj1ko5hhlAr"
      },
      "outputs": [],
      "source": [
        "## Write you code here ##"
      ]
    }
  ],
  "metadata": {
    "colab": {
      "provenance": []
    },
    "kernelspec": {
      "display_name": "Python 3",
      "name": "python3"
    },
    "language_info": {
      "name": "python"
    }
  },
  "nbformat": 4,
  "nbformat_minor": 0
}
