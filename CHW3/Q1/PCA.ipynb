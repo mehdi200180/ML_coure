{
 "cells": [
  {
   "cell_type": "markdown",
   "metadata": {
    "id": "xZ39khpcE4vg"
   },
   "source": [
    "# Enter Student Name & ID"
   ]
  },
  {
   "cell_type": "code",
   "execution_count": 1,
   "metadata": {
    "colab": {
     "base_uri": "https://localhost:8080/"
    },
    "id": "EaNCGiqxE4vi",
    "outputId": "81848d0f-c2c4-4d02-856c-413576c04464"
   },
   "outputs": [
    {
     "name": "stdout",
     "output_type": "stream",
     "text": [
      "your student id: 99106403\n",
      "your name: Mehdi Abbaszadeh\n"
     ]
    }
   ],
   "source": [
    "student_id = 99106403  #@param {type:\"integer\"}\n",
    "student_name = \"Mehdi Abbaszadeh\" #@param {type:\"string\"}\n",
    "\n",
    "print(\"your student id:\", student_id)\n",
    "print(\"your name:\", student_name)"
   ]
  },
  {
   "cell_type": "markdown",
   "metadata": {
    "id": "g5XLqbHsE4vk"
   },
   "source": [
    "## Part 1. Implementing Your Own PCA Function."
   ]
  },
  {
   "cell_type": "markdown",
   "metadata": {
    "id": "IcTuLE8RE4vk"
   },
   "source": [
    "### 1.1 Complete the function below using only the `numpy` library."
   ]
  },
  {
   "cell_type": "code",
   "execution_count": 2,
   "metadata": {
    "id": "L9eS0pHEE4vl"
   },
   "outputs": [],
   "source": [
    "import numpy as np"
   ]
  },
  {
   "cell_type": "code",
   "execution_count": 53,
   "metadata": {
    "id": "hVgfL_efE4vn"
   },
   "outputs": [],
   "source": [
    "def myPCA(X, num_components):\n",
    "    #\n",
    "    # Complete\n",
    "    #\n",
    "    zero_mean_X = X - np.mean(X, axis=0)\n",
    "    covariance_mat = np.cov(zero_mean_X.T)\n",
    "    # eigh retuen a sorted rigen_values (from lowest to biggest) and corresponding normalized eigenvectors\n",
    "    eigenvalues, eigenvectors = np.linalg.eigh(covariance_mat)\n",
    "\n",
    "    # Select the top num_components eigenvectors\n",
    "    new_basis = eigenvectors[: , -1:-num_components - 1 : -1]\n",
    "    # Transform the data\n",
    "    X_reduced = np.dot(zero_mean_X, new_basis)\n",
    "    return X_reduced"
   ]
  },
  {
   "cell_type": "markdown",
   "metadata": {
    "id": "H7rivcrbE4vo"
   },
   "source": [
    "### 1.2 Perform your PCA function on the IRIS dataset, reduce it to 2D, and plot the results."
   ]
  },
  {
   "cell_type": "code",
   "execution_count": 54,
   "metadata": {
    "id": "jAoqVs1LE4vo"
   },
   "outputs": [],
   "source": [
    "import matplotlib.pyplot as plt\n",
    "from sklearn.datasets import load_iris"
   ]
  },
  {
   "cell_type": "code",
   "execution_count": 55,
   "metadata": {
    "colab": {
     "base_uri": "https://localhost:8080/",
     "height": 584
    },
    "id": "B5XiCbqKE4vp",
    "outputId": "c95e14f1-f388-4b09-eddb-62191f7a1285"
   },
   "outputs": [
    {
     "data": {
      "image/png": "[encoded data removed]",
      "text/plain": [
       "<Figure size 576x432 with 1 Axes>"
      ]
     },
     "metadata": {
      "needs_background": "light"
     },
     "output_type": "display_data"
    }
   ],
   "source": [
    "# myPCA on IRIS\n",
    "# Load the Iris dataset\n",
    "iris = load_iris()\n",
    "X = iris.data\n",
    "y = iris.target\n",
    "\n",
    "# Number of principal components\n",
    "n_components = 2\n",
    "X_reduced = myPCA(X, n_components)\n",
    "# Plot the reduced data\n",
    "plt.figure(figsize=(8, 6))\n",
    "for target in np.unique(y):\n",
    "    plt.scatter(X_reduced[y == target, 0], X_reduced[y == target, 1], label=iris.target_names[target])\n",
    "plt.title('PCA of Iris Dataset')\n",
    "plt.xlabel('Principal Component 1')\n",
    "plt.ylabel('Principal Component 2')\n",
    "plt.legend()\n",
    "plt.show()"
   ]
  },
  {
   "cell_type": "markdown",
   "metadata": {
    "id": "4ABqCeHpE4vq"
   },
   "source": [
    "## Part 2. Faces Dataset"
   ]
  },
  {
   "cell_type": "markdown",
   "metadata": {
    "id": "u-kpIUqTE4vq"
   },
   "source": [
    "The dataset contains a total of 40 folders, each contains 10 images depicting a specific individual in ten different states."
   ]
  },
  {
   "cell_type": "markdown",
   "metadata": {
    "id": "aebJAWziE4vr"
   },
   "source": [
    "2.1  Describe eigenfaces and how they are related to PCA."
   ]
  },
  {
   "cell_type": "markdown",
   "metadata": {
    "id": "TCwRatnCE4vr"
   },
   "source": [
    "`Answer 2.1: `\n",
    "Eigenfaces are the eigenvectors of the covariance matrix of the set of face images. When the face images are represented as vectors, these eigenvectors capture the primary components or features that vary among the images.\n",
    "Each eigenface can be viewed as a template that highlights certain facial features. When combined linearly, they can represent any face in the dataset.\n",
    "PCA reduces the dimensionality of the face image data by projecting it onto a lower-dimensional space defined by the eigenfaces. This reduces the computational complexity and storage requirements while retaining the most significant features.\n",
    "By projecting face images onto the space spanned by the eigenfaces, each face is represented by a small set of weights. These weights can then be used for comparing and recognizing faces, making the recognition process efficient and robust."
   ]
  },
  {
   "cell_type": "markdown",
   "metadata": {
    "id": "RK0P5psZE4vr"
   },
   "source": [
    "### 2.2 Read the given dataset and create train and test matrices.\n",
    "For each person, use the first five images for training and the second five images for test (`X_train`, `X_test`). Also, create labels for them (`y_train`, `y_test`).\n",
    "\n",
    "Note: For reading the images, you can use opencv library. You can install this library using the below command in terminal:"
   ]
  },
  {
   "cell_type": "code",
   "execution_count": 70,
   "metadata": {},
   "outputs": [
    {
     "name": "stdout",
     "output_type": "stream",
     "text": [
      "X_train shape: (200, 48, 48)\n",
      "y_train shape: (200,)\n",
      "X_test shape: (200, 48, 48)\n",
      "y_test shape: (200,)\n"
     ]
    }
   ],
   "source": [
    "import os\n",
    "import cv2\n",
    "import numpy as np\n",
    "\n",
    "main_folder = 'ORL'\n",
    "num_individuals = 40\n",
    "num_images_per_individual = 10\n",
    "\n",
    "X_train, y_train, X_test, y_test = [], [], [], []\n",
    "\n",
    "for i in range(1, num_individuals + 1):\n",
    "    folder_path = os.path.join(main_folder, f's{i}')\n",
    "    \n",
    "    for j in range(1, 6):\n",
    "        img_path = os.path.join(folder_path, f'{j}.bmp')\n",
    "        img = cv2.imread(img_path, cv2.IMREAD_GRAYSCALE)\n",
    "        X_train.append(img)\n",
    "        y_train.append(i - 1)\n",
    "\n",
    "    for j in range(6, 11):\n",
    "        img_path = os.path.join(folder_path, f'{j}.bmp')\n",
    "        img = cv2.imread(img_path, cv2.IMREAD_GRAYSCALE)\n",
    "        X_test.append(img)\n",
    "        y_test.append(i - 1)\n",
    "\n",
    "# Convert lists to numpy arrays\n",
    "X_train = np.array(X_train)\n",
    "y_train = np.array(y_train)\n",
    "X_test = np.array(X_test)\n",
    "y_test = np.array(y_test)\n",
    "\n",
    "print(\"X_train shape:\", X_train.shape)\n",
    "print(\"y_train shape:\", y_train.shape)\n",
    "print(\"X_test shape:\", X_test.shape)\n",
    "print(\"y_test shape:\", y_test.shape)"
   ]
  },
  {
   "cell_type": "markdown",
   "metadata": {
    "id": "XIq84egcE4vs"
   },
   "source": [
    "### 2.3 Performing PCA."
   ]
  },
  {
   "cell_type": "markdown",
   "metadata": {
    "id": "_e-z5lN1E4vs"
   },
   "source": [
    "Perform PCA on the data and reduce the dimensionality to a suitable range (e.g., between 40 and 50)."
   ]
  },
  {
   "cell_type": "code",
   "execution_count": 71,
   "metadata": {},
   "outputs": [],
   "source": [
    "from sklearn.decomposition import PCA\n",
    "num_componenets = 45\n",
    "# Flatten the images\n",
    "n_samples, h, w = X_train.shape\n",
    "X_train_flattened = X_train.reshape(n_samples, h * w)\n",
    "\n",
    "n_samples_test, h_test, w_test = X_test.shape\n",
    "X_test_flattened = X_test.reshape(n_samples_test, h_test * w_test)\n",
    "pca = PCA(num_componenets)\n",
    "\n",
    "# Fit PCA on training data and transform both training and testing data\n",
    "X_train_reduced = pca.fit_transform(X_train_flattened)\n",
    "X_test_reduced = pca.transform(X_test_flattened)"
   ]
  },
  {
   "cell_type": "markdown",
   "metadata": {
    "id": "fQmtjOSqE4vs"
   },
   "source": [
    "### 2.4 Training a Classifier\n",
    "Train an LDA classifier on the PCA-transformed data and report the accuracy."
   ]
  },
  {
   "cell_type": "code",
   "execution_count": 72,
   "metadata": {
    "id": "UoXXph2oE4vs"
   },
   "outputs": [
    {
     "name": "stdout",
     "output_type": "stream",
     "text": [
      "LDA Classifier Accuracy: 0.92\n"
     ]
    }
   ],
   "source": [
    "from sklearn.discriminant_analysis import LinearDiscriminantAnalysis as LDA\n",
    "from sklearn.metrics import accuracy_score\n",
    "\n",
    "lda = LDA()\n",
    "lda.fit(X_train_reduced, y_train )\n",
    "\n",
    "# Predict on the test set\n",
    "y_pred = lda.predict(X_test_reduced)\n",
    "\n",
    "# Calculate accuracy\n",
    "accuracy = accuracy_score(y_test, y_pred)\n",
    "\n",
    "print(\"LDA Classifier Accuracy:\", accuracy)"
   ]
  },
  {
   "cell_type": "markdown",
   "metadata": {
    "id": "dejG11hTE4vs"
   },
   "source": [
    "### 2.5 Varying PCA Dimensions"
   ]
  },
  {
   "cell_type": "markdown",
   "metadata": {
    "id": "NcZi2DviE4vs"
   },
   "source": [
    "Repeat the process for different dimensions of PCA (vary from 100 to 40) and discuss the results.\n",
    "\n",
    "How many features do you think are sufficient?\n"
   ]
  },
  {
   "cell_type": "code",
   "execution_count": 81,
   "metadata": {},
   "outputs": [
    {
     "name": "stdout",
     "output_type": "stream",
     "text": [
      "Number of PCA components: 1, LDA Classifier Accuracy: 0.1\n",
      "Number of PCA components: 2, LDA Classifier Accuracy: 0.185\n",
      "Number of PCA components: 3, LDA Classifier Accuracy: 0.325\n",
      "Number of PCA components: 4, LDA Classifier Accuracy: 0.47\n",
      "Number of PCA components: 5, LDA Classifier Accuracy: 0.59\n",
      "Number of PCA components: 6, LDA Classifier Accuracy: 0.625\n",
      "Number of PCA components: 7, LDA Classifier Accuracy: 0.725\n",
      "Number of PCA components: 8, LDA Classifier Accuracy: 0.74\n",
      "Number of PCA components: 9, LDA Classifier Accuracy: 0.75\n",
      "Number of PCA components: 10, LDA Classifier Accuracy: 0.775\n",
      "Number of PCA components: 11, LDA Classifier Accuracy: 0.83\n",
      "Number of PCA components: 12, LDA Classifier Accuracy: 0.83\n",
      "Number of PCA components: 13, LDA Classifier Accuracy: 0.845\n",
      "Number of PCA components: 14, LDA Classifier Accuracy: 0.86\n",
      "Number of PCA components: 15, LDA Classifier Accuracy: 0.89\n",
      "Number of PCA components: 16, LDA Classifier Accuracy: 0.885\n",
      "Number of PCA components: 17, LDA Classifier Accuracy: 0.895\n",
      "Number of PCA components: 18, LDA Classifier Accuracy: 0.895\n",
      "Number of PCA components: 19, LDA Classifier Accuracy: 0.89\n",
      "Number of PCA components: 20, LDA Classifier Accuracy: 0.905\n",
      "Number of PCA components: 21, LDA Classifier Accuracy: 0.91\n",
      "Number of PCA components: 22, LDA Classifier Accuracy: 0.92\n",
      "Number of PCA components: 23, LDA Classifier Accuracy: 0.91\n",
      "Number of PCA components: 24, LDA Classifier Accuracy: 0.905\n",
      "Number of PCA components: 25, LDA Classifier Accuracy: 0.91\n",
      "Number of PCA components: 26, LDA Classifier Accuracy: 0.905\n",
      "Number of PCA components: 27, LDA Classifier Accuracy: 0.925\n",
      "Number of PCA components: 28, LDA Classifier Accuracy: 0.915\n",
      "Number of PCA components: 29, LDA Classifier Accuracy: 0.93\n",
      "Number of PCA components: 30, LDA Classifier Accuracy: 0.935\n",
      "Number of PCA components: 31, LDA Classifier Accuracy: 0.935\n",
      "Number of PCA components: 32, LDA Classifier Accuracy: 0.94\n",
      "Number of PCA components: 33, LDA Classifier Accuracy: 0.915\n",
      "Number of PCA components: 34, LDA Classifier Accuracy: 0.915\n",
      "Number of PCA components: 35, LDA Classifier Accuracy: 0.91\n",
      "Number of PCA components: 36, LDA Classifier Accuracy: 0.925\n",
      "Number of PCA components: 37, LDA Classifier Accuracy: 0.915\n",
      "Number of PCA components: 38, LDA Classifier Accuracy: 0.905\n",
      "Number of PCA components: 39, LDA Classifier Accuracy: 0.925\n",
      "Number of PCA components: 40, LDA Classifier Accuracy: 0.945\n",
      "Number of PCA components: 41, LDA Classifier Accuracy: 0.925\n",
      "Number of PCA components: 42, LDA Classifier Accuracy: 0.925\n",
      "Number of PCA components: 43, LDA Classifier Accuracy: 0.92\n",
      "Number of PCA components: 44, LDA Classifier Accuracy: 0.915\n",
      "Number of PCA components: 45, LDA Classifier Accuracy: 0.935\n",
      "Number of PCA components: 46, LDA Classifier Accuracy: 0.915\n",
      "Number of PCA components: 47, LDA Classifier Accuracy: 0.915\n",
      "Number of PCA components: 48, LDA Classifier Accuracy: 0.93\n",
      "Number of PCA components: 49, LDA Classifier Accuracy: 0.935\n",
      "Number of PCA components: 50, LDA Classifier Accuracy: 0.93\n",
      "Number of PCA components: 51, LDA Classifier Accuracy: 0.935\n",
      "Number of PCA components: 52, LDA Classifier Accuracy: 0.925\n",
      "Number of PCA components: 53, LDA Classifier Accuracy: 0.91\n",
      "Number of PCA components: 54, LDA Classifier Accuracy: 0.92\n",
      "Number of PCA components: 55, LDA Classifier Accuracy: 0.915\n",
      "Number of PCA components: 56, LDA Classifier Accuracy: 0.905\n",
      "Number of PCA components: 57, LDA Classifier Accuracy: 0.905\n",
      "Number of PCA components: 58, LDA Classifier Accuracy: 0.91\n",
      "Number of PCA components: 59, LDA Classifier Accuracy: 0.905\n",
      "Number of PCA components: 60, LDA Classifier Accuracy: 0.9\n",
      "Number of PCA components: 61, LDA Classifier Accuracy: 0.915\n",
      "Number of PCA components: 62, LDA Classifier Accuracy: 0.915\n",
      "Number of PCA components: 63, LDA Classifier Accuracy: 0.91\n",
      "Number of PCA components: 64, LDA Classifier Accuracy: 0.9\n",
      "Number of PCA components: 65, LDA Classifier Accuracy: 0.91\n",
      "Number of PCA components: 66, LDA Classifier Accuracy: 0.915\n",
      "Number of PCA components: 67, LDA Classifier Accuracy: 0.905\n",
      "Number of PCA components: 68, LDA Classifier Accuracy: 0.91\n",
      "Number of PCA components: 69, LDA Classifier Accuracy: 0.915\n",
      "Number of PCA components: 70, LDA Classifier Accuracy: 0.915\n",
      "Number of PCA components: 71, LDA Classifier Accuracy: 0.915\n",
      "Number of PCA components: 72, LDA Classifier Accuracy: 0.92\n",
      "Number of PCA components: 73, LDA Classifier Accuracy: 0.915\n",
      "Number of PCA components: 74, LDA Classifier Accuracy: 0.925\n",
      "Number of PCA components: 75, LDA Classifier Accuracy: 0.935\n",
      "Number of PCA components: 76, LDA Classifier Accuracy: 0.935\n",
      "Number of PCA components: 77, LDA Classifier Accuracy: 0.925\n",
      "Number of PCA components: 78, LDA Classifier Accuracy: 0.93\n",
      "Number of PCA components: 79, LDA Classifier Accuracy: 0.92\n",
      "Number of PCA components: 80, LDA Classifier Accuracy: 0.92\n",
      "Number of PCA components: 81, LDA Classifier Accuracy: 0.925\n",
      "Number of PCA components: 82, LDA Classifier Accuracy: 0.925\n",
      "Number of PCA components: 83, LDA Classifier Accuracy: 0.925\n",
      "Number of PCA components: 84, LDA Classifier Accuracy: 0.9\n",
      "Number of PCA components: 85, LDA Classifier Accuracy: 0.915\n",
      "Number of PCA components: 86, LDA Classifier Accuracy: 0.925\n",
      "Number of PCA components: 87, LDA Classifier Accuracy: 0.925\n",
      "Number of PCA components: 88, LDA Classifier Accuracy: 0.925\n",
      "Number of PCA components: 89, LDA Classifier Accuracy: 0.92\n",
      "Number of PCA components: 90, LDA Classifier Accuracy: 0.92\n",
      "Number of PCA components: 91, LDA Classifier Accuracy: 0.92\n",
      "Number of PCA components: 92, LDA Classifier Accuracy: 0.94\n",
      "Number of PCA components: 93, LDA Classifier Accuracy: 0.92\n",
      "Number of PCA components: 94, LDA Classifier Accuracy: 0.92\n",
      "Number of PCA components: 95, LDA Classifier Accuracy: 0.92\n",
      "Number of PCA components: 96, LDA Classifier Accuracy: 0.9\n",
      "Number of PCA components: 97, LDA Classifier Accuracy: 0.9\n",
      "Number of PCA components: 98, LDA Classifier Accuracy: 0.895\n",
      "Number of PCA components: 99, LDA Classifier Accuracy: 0.895\n",
      "Number of PCA components: 100, LDA Classifier Accuracy: 0.885\n"
     ]
    }
   ],
   "source": [
    "for n in np.arange(1, 101):\n",
    "    pca = PCA(n)\n",
    "    X_train_reduced = pca.fit_transform(X_train_flattened)\n",
    "    X_test_reduced = pca.transform(X_test_flattened)\n",
    "    \n",
    "    lda = LDA()\n",
    "    lda.fit(X_train_reduced, y_train )\n",
    "\n",
    "    # Predict on the test set\n",
    "    y_pred = lda.predict(X_test_reduced)\n",
    "\n",
    "    # Calculate accuracy\n",
    "    accuracy = accuracy_score(y_test, y_pred)\n",
    "    print(f\"Number of PCA components: {n}, LDA Classifier Accuracy: {accuracy}\")"
   ]
  },
  {
   "cell_type": "code",
   "execution_count": 84,
   "metadata": {},
   "outputs": [],
   "source": [
    "###Answer:\n",
    "# varying from 40 to 100 features can not show the real sufficient feature value. instead, as you can see above, i changed the\n",
    "# features from 1 to 100, and it can be understood that 32 features have the best accuracy. the interesting point besides the \n",
    "# fact that below 30, there is a significant reduction in accuracy is that there are also for large number of features\n",
    "# a small decrease in accuracy as you see above."
   ]
  },
  {
   "cell_type": "code",
   "execution_count": null,
   "metadata": {},
   "outputs": [],
   "source": []
  }
 ],
 "metadata": {
  "colab": {
   "provenance": []
  },
  "kernelspec": {
   "display_name": "Python 3 (ipykernel)",
   "language": "python",
   "name": "python3"
  },
  "language_info": {
   "codemirror_mode": {
    "name": "ipython",
    "version": 3
   },
   "file_extension": ".py",
   "mimetype": "text/x-python",
   "name": "python",
   "nbconvert_exporter": "python",
   "pygments_lexer": "ipython3",
   "version": "3.9.7"
  }
 },
 "nbformat": 4,
 "nbformat_minor": 1
}
