{
 "cells": [
  {
   "cell_type": "markdown",
   "metadata": {
    "id": "ChC3RF8meAlK"
   },
   "source": [
    "<h1 align=\"center\">Introduction to Machine Learning - 25737-2</h1>\n",
    "<h4 align=\"center\">Dr. R. Amiri</h4>\n",
    "<h4 align=\"center\">Sharif University of Technology, Spring 2024</h4>\n",
    "\n",
    "\n",
    "**<font color='red'>Plagiarism is strongly prohibited!</font>**\n",
    "\n",
    "\n",
    "**Student Name**: Mehdi Abbaszadeh\n",
    "\n",
    "**Student ID**: 99106403\n",
    "\n",
    "\n",
    "\n"
   ]
  },
  {
   "cell_type": "markdown",
   "metadata": {
    "id": "IraiR0SbeDi_"
   },
   "source": [
    "# Logistic Regression"
   ]
  },
  {
   "cell_type": "markdown",
   "metadata": {
    "id": "nRQjwWC3eDnc"
   },
   "source": [
    "**Task:** Implement your own Logistic Regression model, and test it on the given dataset of Logistic_question.csv!"
   ]
  },
  {
   "cell_type": "code",
   "execution_count": 2,
   "metadata": {},
   "outputs": [],
   "source": [
    "# import necessary libraries\n",
    "use_gpu = False \n",
    "\n",
    "if use_gpu:\n",
    "    import cupy as np \n",
    "else:\n",
    "    import numpy as np\n",
    "import matplotlib.pyplot as plt\n",
    "import pandas as pd\n",
    "from sklearn.model_selection import train_test_split, GridSearchCV\n",
    "from sklearn.metrics import accuracy_score, precision_score, recall_score, f1_score\n",
    "from sklearn.linear_model import LogisticRegression\n",
    "from sklearn.preprocessing import OneHotEncoder, StandardScaler\n",
    "from sklearn.compose import ColumnTransformer\n",
    "from sklearn.pipeline import Pipeline\n",
    "\n",
    "class MyLogisticRegression:\n",
    "    # Your code goes here!\n",
    "    # This class must have an __init__ method, a loss function, a fit function, and a predict function. You also need to make your code runnable on gpu!\n",
    "    def __init__(self, learning_rate=0.01, regLambda = 0.01, num_iterations=100):\n",
    "        self.learning_rate = learning_rate\n",
    "        self.regLambda = regLambda\n",
    "        self.num_iterations = num_iterations\n",
    "        self.theta = None\n",
    "        self.loss_vector = np.array([])\n",
    "\n",
    "    def sigmoid(self, z):\n",
    "        return 1 / (1 + np.exp(-z))\n",
    "\n",
    "    def loss_function(self, X, y):\n",
    "        m, n = X.shape\n",
    "        h = self.sigmoid(np.dot(X, self.theta))\n",
    "        regularization_term = self.regLambda/(2*m) * np.sum(np.square(self.theta[1:]))\n",
    "        loss = -1/m * (np.dot(y.T, np.log(h + 1e-10)) + np.dot((1 - y).T, np.log(1 - h + 1e-10))) + regularization_term\n",
    "        return loss.item()\n",
    "    \n",
    "    def gradient_descent(self, X, y):\n",
    "        m, n = X.shape\n",
    "        h = self.sigmoid(np.dot(X, self.theta))\n",
    "        regularization_term = self.regLambda/m * np.concatenate(([0], self.theta[1:])) \n",
    "        grad = 1/m * np.dot(X.T, (h - y)) + regularization_term\n",
    "        return grad\n",
    "    \n",
    "    def fit(self, X, y):\n",
    "        X = np.hstack((np.ones((X.shape[0], 1)), X))\n",
    "        _, n = X.shape\n",
    "        self.theta = np.zeros(n, )\n",
    "        for _ in np.arange(self.num_iterations):\n",
    "            self.theta -= self.learning_rate*self.gradient_descent(X, y)\n",
    "            tmp_loss = self.loss_function(X, y)\n",
    "            self.loss_vector = np.append(self.loss_vector, tmp_loss)\n",
    "            \n",
    "    def predict(self, X):\n",
    "        X = np.hstack((np.ones((X.shape[0], 1)), X))\n",
    "        tmp = X.reshape(X.shape[0], len(self.theta))@self.theta.reshape(len(self.theta), 1)\n",
    "        y = self.sigmoid(tmp) > 0.5\n",
    "        return y"
   ]
  },
  {
   "cell_type": "markdown",
   "metadata": {
    "id": "S-i-oubUlZ6e"
   },
   "source": [
    "**Task:** Test your model on the given dataset. You must split your data into train and test, with a 0.2 split, then normalize your data using X_train data. Finally, report 4 different evaluation metrics of the model on the test set. (You might want to first make the Target column binary!)"
   ]
  },
  {
   "cell_type": "code",
   "execution_count": 3,
   "metadata": {
    "colab": {
     "base_uri": "https://localhost:8080/"
    },
    "id": "0KXzIy_2u-pG",
    "outputId": "9625f7e2-abb1-4591-c0fa-843525e0ffd6"
   },
   "outputs": [
    {
     "name": "stdout",
     "output_type": "stream",
     "text": [
      "accuracy = 0.925\n",
      "precision = 0.971830985915493\n",
      "recall = 0.9452054794520548\n",
      "f1 = 0.9583333333333334\n"
     ]
    }
   ],
   "source": [
    "# Your code goes here!\n",
    "dataset = pd.read_csv('Q2/Logistic_question.csv')\n",
    "X = dataset.iloc[:, :-1].values\n",
    "Y = dataset.iloc[:, -1].values\n",
    "\n",
    "# add a column of 1's to the training data coressponding to Bias in weights vector\n",
    "\n",
    "# making the target column binary\n",
    "Y = Y > 0.5\n",
    "\n",
    "# train_test split\n",
    "X_train, X_test, y_train, y_test = train_test_split(X, Y, test_size=0.2, random_state = 0)\n",
    "\n",
    "# normalize the data\n",
    "mean_tr = np.mean(X, axis=0)\n",
    "std_tr = np.std(X, axis=0)\n",
    "X_train = (X_train - mean_tr)/std_tr\n",
    "\n",
    "mean_test = np.mean(X_test, axis=0)\n",
    "std_test = np.std(X_test, axis=0)\n",
    "X_test = (X_test - mean_test)/std_test\n",
    "\n",
    "# instantiate the MyLogisticRegression class\n",
    "my_model = MyLogisticRegression()\n",
    "my_model.fit(X_train, y_train)\n",
    "# plt.plot(np.arange(1, len(my_model.loss_vector) + 1), my_model.loss_vector)\n",
    "# plt.show()\n",
    "y_pred = my_model.predict(X_test)\n",
    "\n",
    "# Calculate evaluation metrics\n",
    "accuracy = accuracy_score(y_test, y_pred)\n",
    "precision = precision_score(y_test, y_pred)\n",
    "recall = recall_score(y_test, y_pred)\n",
    "f1 = f1_score(y_test, y_pred)\n",
    "\n",
    "print(f'accuracy = {accuracy}')\n",
    "print(f'precision = {precision}')\n",
    "print(f'recall = {recall}')\n",
    "print(f'f1 = {f1}')"
   ]
  },
  {
   "cell_type": "markdown",
   "metadata": {
    "id": "Ji0RXNGKv1pa"
   },
   "source": [
    "**Question:** What are each of your used evaluation metrics? And for each one, mention situations in which they convey more data on the model performance in specific tasks."
   ]
  },
  {
   "cell_type": "markdown",
   "metadata": {
    "id": "ldveD35twRRZ"
   },
   "source": [
    "**Your answer:**\n",
    "\n",
    "**1.Accuracy:**\n",
    "Accuracy measures the proportion of correctly classified instances out of the total number of instances.\n",
    "Accuracy is useful when the class distribution is balanced and the cost of misclassification for both classes is similar.However, accuracy can be misleading when the class distribution is imbalanced, as it may overestimate the performance of the model when one class dominates the dataset\n",
    "\n",
    "**2.Precision:**\n",
    "Precision measures the proportion of true positive predictions out of all positive predictions made by the model.\n",
    "Precision is useful when the cost of false positives (incorrectly predicting the positive class) is high. It emphasizes the model's ability to avoid false positives.\n",
    "For example, in spam email detection, precision is important because misclassifying non-spam emails as spam (false positives) can be disruptive to users.\n",
    "\n",
    "**3.Recall:**\n",
    "Recall measures the proportion of true positive predictions out of all actual positive instances in the dataset.\n",
    "Recall is useful when the cost of false negatives (incorrectly predicting the negative class) is high. It emphasizes the model's ability to capture all positive instances.\n",
    "For example, in medical diagnosis, recall is important because missing positive cases (false negatives) can be life-threatening if not detected.\n",
    "\n",
    "**4.F1 Score:**\n",
    "The F1 score is the harmonic mean of precision and recall, providing a balance between the two metrics.\n",
    "The F1 score is useful when there is an uneven class distribution or when both false positives and false negatives are costly.\n",
    "It is particularly valuable when you need to consider both precision and recall simultaneously and want a single metric to evaluate the model's performance comprehensively."
   ]
  },
  {
   "cell_type": "markdown",
   "metadata": {
    "id": "1ZCeRHZSw-mh"
   },
   "source": [
    "**Task:** Now test the built-in function of Python for Logistic Regression, and report all the same metrics used before."
   ]
  },
  {
   "cell_type": "code",
   "execution_count": 4,
   "metadata": {
    "id": "Vb5lRSQXDLR3"
   },
   "outputs": [
    {
     "name": "stdout",
     "output_type": "stream",
     "text": [
      "accuracy = 0.95\n",
      "precision = 0.96\n",
      "recall = 0.9863013698630136\n",
      "f1 = 0.9729729729729729\n"
     ]
    }
   ],
   "source": [
    "# Your code goes here!\n",
    "model = LogisticRegression()\n",
    "model.fit(X_train, y_train)\n",
    "\n",
    "y_pred = model.predict(X_test)\n",
    "\n",
    "# Calculate evaluation metrics\n",
    "accuracy = accuracy_score(y_test, y_pred)\n",
    "precision = precision_score(y_test, y_pred)\n",
    "recall = recall_score(y_test, y_pred)\n",
    "f1 = f1_score(y_test, y_pred)\n",
    "\n",
    "print(f'accuracy = {accuracy}')\n",
    "print(f'precision = {precision}')\n",
    "print(f'recall = {recall}')\n",
    "print(f'f1 = {f1}')"
   ]
  },
  {
   "cell_type": "markdown",
   "metadata": {
    "id": "RCvIymmMy_ji"
   },
   "source": [
    "**Question:** Compare your function with the built-in function. On the matters of performance and parameters. Briefly explain what the parameters of the built-in function are and how they affect the model's performance?"
   ]
  },
  {
   "cell_type": "markdown",
   "metadata": {
    "id": "EY0ohM16z3De"
   },
   "source": [
    "**Your answer:**\n",
    "as you see, my function has better performance based on the metric precision. but in other three metrics the performance of built-in function is better than my function.\n",
    "When comparing a self-implemented logistic regression model with the built-in logistic regression model from scikit-learn, there are several factors to consider including performance, ease of use, and flexibility\n",
    "**1.Performance:**\n",
    "Performance can be evaluated in terms of accuracy, training time, and memory usage.\n",
    "Scikit-learn's built-in logistic regression model is optimized for performance and efficiency, often outperforming self-implemented models, especially for large datasets.\n",
    "Self-implemented models may not be as optimized and may suffer from performance issues, particularly when dealing with large-scale datasets.\n",
    "\n",
    "**2.Parameters:**\n",
    "Scikit-learn's logistic regression implementation offers several parameters that can be tuned to optimize model performance:\n",
    "penalty: Specifies the norm used in the penalization (L1 or L2 regularization).\n",
    "C: Inverse of regularization strength; smaller values specify stronger regularization.\n",
    "solver: Algorithm to use for optimization (e.g., 'liblinear', 'newton-cg', 'lbfgs', 'sag', 'saga').\n",
    "max_iter: Maximum number of iterations for optimization algorithms.\n",
    "class_weight: Weights associated with classes to address class imbalance.\n",
    "These parameters can significantly affect the model's performance and generalization ability:\n",
    "Choosing the right regularization strength (C) helps prevent overfitting.\n",
    "The choice of solver and maximum number of iterations can impact convergence speed and memory usage.\n",
    "Setting appropriate class weights is crucial for handling imbalanced datasets.\n",
    "\n",
    "**3.Ease of use and flexibility:**\n",
    "Scikit-learn's logistic regression implementation provides a user-friendly interface and seamlessly integrates with other scikit-learn functionalities (e.g., cross-validation, pipeline).\n",
    "Self-implemented models require more effort to develop, debug, and maintain. They may lack some advanced features available in scikit-learn, such as built-in cross-validation and hyperparameter tuning.\n",
    "However, self-implemented models offer greater flexibility and customization, allowing researchers to experiment with different optimization algorithms, regularization techniques, and custom loss functions"
   ]
  },
  {
   "cell_type": "markdown",
   "metadata": {
    "id": "ClMqoYlr2kr7"
   },
   "source": [
    "# Multinomial Logistic Regression"
   ]
  },
  {
   "cell_type": "markdown",
   "metadata": {
    "id": "ukvlqDe52xP5"
   },
   "source": [
    "**Task:** Implement your own Multinomial Logistic Regression model. Your model must be able to handle any number of labels!"
   ]
  },
  {
   "cell_type": "code",
   "execution_count": 5,
   "metadata": {
    "id": "5Ir-_hFt286t"
   },
   "outputs": [],
   "source": [
    "# import necessary libraries\n",
    "import warnings\n",
    "from sklearn.exceptions import UndefinedMetricWarning\n",
    "warnings.filterwarnings(\"ignore\")\n",
    "\n",
    "class MyMultinomialLogisticRegression:\n",
    "    # Your code goes here!\n",
    "    # This class must have an __init__ method, a loss function, a fit function, and a predict function. You also need to make your code runnable on gpu!\n",
    "    def __init__(self, learning_rate=0.01, regLambda = 0.01, num_iterations=100):\n",
    "        self.learning_rate = learning_rate\n",
    "        self.regLambda = regLambda\n",
    "        self.num_iterations = num_iterations\n",
    "        self.regLambda = regLambda\n",
    "        self.theta = None\n",
    "        \n",
    "    def softmax(self, z):\n",
    "        exp_z = np.exp(z - np.max(z, axis=1, keepdims=True))\n",
    "        return exp_z / np.sum(exp_z, axis=1, keepdims=True)\n",
    "    \n",
    "    def loss_function(self, X, y):\n",
    "        m = len(y)\n",
    "        h = self.softmax(np.dot(X, self.theta))\n",
    "        cross_entropy_loss = -1/m * np.sum(np.log(h[np.arange(m), y]))\n",
    "        regularization_term = 0.5 * self.regLambda * np.sum(self.theta ** 2)/m\n",
    "        cost = cross_entropy_loss + regularization_term\n",
    "        return cost\n",
    "    \n",
    "    def gradient_descent(self, X, y):\n",
    "        m, n = X.shape\n",
    "        num_classes = len(np.unique(y))\n",
    "        self.theta = np.zeros((n, num_classes))\n",
    "        y_one_hot = np.eye(num_classes)[y]\n",
    "        for _ in range(self.num_iterations):\n",
    "            h = self.softmax(np.dot(X, self.theta))\n",
    "            gradient = 1/m * np.dot(X.T, (h - y_one_hot))\n",
    "            gradient += 1/m*self.regLambda * self.theta  \n",
    "            self.theta -= self.learning_rate * gradient\n",
    "            \n",
    "    def fit(self, X, y):\n",
    "        X = np.hstack((np.ones((X.shape[0], 1)), X))\n",
    "        self.gradient_descent(X, y)\n",
    "        \n",
    "    def predict_proba(self, X):\n",
    "        X = np.hstack((np.ones((X.shape[0], 1)), X))\n",
    "        return self.softmax(np.dot(X, self.theta))\n",
    "\n",
    "    def predict(self, X):\n",
    "        # Predict class labels\n",
    "        return np.argmax(self.predict_proba(X), axis=1)    "
   ]
  },
  {
   "cell_type": "markdown",
   "metadata": {
    "id": "zPQ3Rtay3Y2_"
   },
   "source": [
    "**Task:** Test your model on the given dataset. Do the same as the previous part, but here you might want to first make the Target column quantized into $i$ levels. Change $i$ from 2 to 10."
   ]
  },
  {
   "cell_type": "code",
   "execution_count": 6,
   "metadata": {
    "id": "9aP4QJPq29B3"
   },
   "outputs": [
    {
     "name": "stdout",
     "output_type": "stream",
     "text": [
      "results for i = 2\n",
      "accuracy = 1.0\n",
      "precision = 1.0\n",
      "recall = 1.0\n",
      "f1 = 1.0\n",
      "*******************************\n",
      "results for i = 3\n",
      "accuracy = 0.8375\n",
      "precision = 0.8584300451321727\n",
      "recall = 0.8375\n",
      "f1 = 0.8415086423896627\n",
      "*******************************\n",
      "results for i = 4\n",
      "accuracy = 0.725\n",
      "precision = 0.6458802376485304\n",
      "recall = 0.725\n",
      "f1 = 0.6792413853727144\n",
      "*******************************\n",
      "results for i = 5\n",
      "accuracy = 0.55\n",
      "precision = 0.5803646318732525\n",
      "recall = 0.55\n",
      "f1 = 0.4961309523809523\n",
      "*******************************\n",
      "results for i = 6\n",
      "accuracy = 0.5375\n",
      "precision = 0.5328125\n",
      "recall = 0.5375\n",
      "f1 = 0.4760957792207792\n",
      "*******************************\n",
      "results for i = 7\n",
      "accuracy = 0.4125\n",
      "precision = 0.35320881226053635\n",
      "recall = 0.4125\n",
      "f1 = 0.3300271739130435\n",
      "*******************************\n",
      "results for i = 8\n",
      "accuracy = 0.3625\n",
      "precision = 0.42699362041467304\n",
      "recall = 0.3625\n",
      "f1 = 0.2709020301312391\n",
      "*******************************\n",
      "results for i = 9\n",
      "accuracy = 0.3\n",
      "precision = 0.2784137426900585\n",
      "recall = 0.3\n",
      "f1 = 0.24128415668326827\n",
      "*******************************\n",
      "results for i = 10\n",
      "accuracy = 0.2375\n",
      "precision = 0.17656733746130032\n",
      "recall = 0.2375\n",
      "f1 = 0.13719522267741507\n",
      "*******************************\n"
     ]
    },
    {
     "data": {
      "image/png": "[encoded data removed]",
      "text/plain": [
       "<Figure size 432x288 with 1 Axes>"
      ]
     },
     "metadata": {
      "needs_background": "light"
     },
     "output_type": "display_data"
    }
   ],
   "source": [
    "# Your code goes here!\n",
    "dataset = pd.read_csv('Q2/Logistic_question.csv')\n",
    "X = dataset.iloc[:, :-1].values\n",
    "Y = dataset.iloc[:, -1].values\n",
    "\n",
    "levels = np.arange(2, 11)\n",
    "index = 0\n",
    "accuracy_vec = np.zeros((9, 1))\n",
    "\n",
    "for i in levels:\n",
    "    Y_new = np.digitize(Y, np.linspace(Y.min(), Y.max(), i)) - 1  # levels : [0, i - 1]\n",
    "    \n",
    "    # train_test split\n",
    "    X_train, X_test, y_train, y_test = train_test_split(X, Y_new, test_size=0.2, random_state = 0)\n",
    "\n",
    "    # normalize the data\n",
    "    mean_tr = np.mean(X, axis=0)\n",
    "    std_tr = np.std(X, axis=0)\n",
    "    X_train = (X_train - mean_tr)/std_tr\n",
    "\n",
    "    mean_test = np.mean(X_test, axis=0)\n",
    "    std_test = np.std(X_test, axis=0)\n",
    "    X_test = (X_test - mean_test)/std_test\n",
    "    \n",
    "    # instantiate the MyLogisticRegression class\n",
    "    my_model = MyMultinomialLogisticRegression()\n",
    "    my_model.fit(X_train, y_train)\n",
    "    y_pred = my_model.predict(X_test)\n",
    "\n",
    "    # Calculate evaluation metrics\n",
    "    accuracy = accuracy_score(y_test, y_pred)\n",
    "    precision = precision_score(y_test, y_pred, average='weighted')\n",
    "    recall = recall_score(y_test, y_pred, average='weighted')\n",
    "    f1 = f1_score(y_test, y_pred, average='weighted')\n",
    "    \n",
    "    accuracy_vec[index] = accuracy\n",
    "    index += 1\n",
    "\n",
    "    # printing the results\n",
    "    print(f'results for i = {i}')\n",
    "    print(f'accuracy = {accuracy}')\n",
    "    print(f'precision = {precision}')\n",
    "    print(f'recall = {recall}')\n",
    "    print(f'f1 = {f1}')\n",
    "    print('*******************************')\n",
    "    \n",
    "\n",
    "plt.plot(np.arange(1, index+1), accuracy_vec)    \n",
    "plt.show()"
   ]
  },
  {
   "cell_type": "markdown",
   "metadata": {
    "id": "Of2sHl5Z4dXi"
   },
   "source": [
    "**Question:** Report for which $i$ your model performs best. Describe and analyze the results! You could use visualizations or any other method!"
   ]
  },
  {
   "cell_type": "markdown",
   "metadata": {
    "id": "cRLERDAr4wnS"
   },
   "source": [
    "**Your answer:**\n",
    "as you see the previous plot, the model performs best for i = 2. because ...."
   ]
  },
  {
   "cell_type": "markdown",
   "metadata": {
    "id": "wT43jGKV6CBZ"
   },
   "source": [
    "# Going a little further!"
   ]
  },
  {
   "cell_type": "markdown",
   "metadata": {
    "id": "Vo9uGo0R6GZo"
   },
   "source": [
    "First we download Adult income dataset from Kaggle! In order to do this create an account on this website, and create an API. A file named kaggle.json will be downloaded to your device. Then use the following code:"
   ]
  },
  {
   "cell_type": "code",
   "execution_count": null,
   "metadata": {
    "colab": {
     "base_uri": "https://localhost:8080/",
     "height": 73
    },
    "id": "o-vrjYBF7u1E",
    "outputId": "b274bc6e-4c35-4ad8-f17b-9e69f7d92923"
   },
   "outputs": [],
   "source": [
    "from google.colab import files\n",
    "files.upload()  # Use this to select the kaggle.json file from your computer\n",
    "!mkdir -p ~/.kaggle\n",
    "!cp kaggle.json ~/.kaggle/\n",
    "!chmod 600 ~/.kaggle/kaggle.json"
   ]
  },
  {
   "cell_type": "markdown",
   "metadata": {
    "id": "5i6u6_1v8ftX"
   },
   "source": [
    "Then use this code to automatically download the dataset into Colab."
   ]
  },
  {
   "cell_type": "code",
   "execution_count": null,
   "metadata": {
    "colab": {
     "base_uri": "https://localhost:8080/"
    },
    "id": "XjyVaVKF29Hx",
    "outputId": "15d0b1a2-c806-4102-abbc-12545237e218"
   },
   "outputs": [],
   "source": [
    "!kaggle datasets download -d wenruliu/adult-income-dataset\n",
    "!unzip /content/adult-income-dataset.zip"
   ]
  },
  {
   "cell_type": "markdown",
   "metadata": {
    "id": "EXQnbZwt8rJK"
   },
   "source": [
    "**Task:** Determine the number of null entries!"
   ]
  },
  {
   "cell_type": "code",
   "execution_count": 8,
   "metadata": {
    "colab": {
     "base_uri": "https://localhost:8080/"
    },
    "id": "JtuEx6QW29c1",
    "outputId": "43397bec-0622-4dc4-de2b-c65be00e4503"
   },
   "outputs": [
    {
     "name": "stdout",
     "output_type": "stream",
     "text": [
      "workclass: 2799 null entries\n",
      "occupation: 2809 null entries\n",
      "native-country: 857 null entries\n",
      "total number of null entries = 6465\n"
     ]
    }
   ],
   "source": [
    "# Your code goes here!\n",
    "# reading the data\n",
    "adult = pd.read_csv('Q2/adult.csv')\n",
    "\n",
    "for i,j in zip(adult.columns,(adult.values.astype(str) == '?').sum(axis = 0)):\n",
    "    if j > 0:\n",
    "        print(str(i) + ': ' + str(j) + ' null entries')\n",
    "x = (adult.values.astype(str) == '?').sum(axis = 0).sum()\n",
    "print(f'total number of null entries = {x}')        "
   ]
  },
  {
   "cell_type": "markdown",
   "metadata": {
    "id": "JpEcBdTUAYVN"
   },
   "source": [
    "**Question:** In many widely used datasets there are a lot of null entries. Propose 5 methods by which, one could deal with this problem. Briefly explain how do you decide which one to use in this problem."
   ]
  },
  {
   "cell_type": "markdown",
   "metadata": {
    "id": "l1u1pBHuAsSg"
   },
   "source": [
    "**Your answer:**\n",
    "\n",
    "There are different ways to handle missing values in Numeric data and Categorical data:\n",
    "\n",
    "**1. Mean/Median/Mode Imputation:**\n",
    "Replace null values with the mean, median, or mode of the column.\n",
    "This method is simple and effective when the null values are missing at random and don’t have a significant impact on the overall distribution of the data.\n",
    "\n",
    "**2.Forward Fill:**\n",
    "The forwardfill() method is used to fill in missing values in a DataFrame or Series with the previous valid observation.\n",
    "\n",
    "**3. Backward Fill:**\n",
    "The backfill() method is used to fill in missing values in a DataFrame or Series with the next valid observation.\n",
    "\n",
    "**4. Interpolation:**\n",
    "Interpolation methods estimate missing values based on the values of neighboring data points. Common interpolation methods include linear interpolation and polynomial interpolation.\n",
    "Using Interpolate method for a column in a dataset.\n",
    "\n",
    "**8. Machine Learning Model:**\n",
    "You can use machine learning models to predict missing values based on the other features in your dataset.\n",
    "This can be a more sophisticated approach and might require splitting your data into two sets: one with non-null values for training and one with null values for prediction.\n",
    "\n",
    "**6. Replace with Constant Values:**\n",
    "Replace null values with a specific constant value that is meaningful for your dataset. For example, you might use 0 or -1 if it makes sense in your context.\n",
    "Replacing null values with a constant for a specific column.\n",
    "\n",
    "my method:"
   ]
  },
  {
   "cell_type": "markdown",
   "metadata": {
    "id": "eHhH-hkpAxFf"
   },
   "source": [
    "**Task:** Handle null entries using your best method."
   ]
  },
  {
   "cell_type": "code",
   "execution_count": 12,
   "metadata": {
    "colab": {
     "base_uri": "https://localhost:8080/",
     "height": 206
    },
    "id": "5fVwWcjK29fk",
    "outputId": "c21a6adf-1e6c-46d0-dd61-79d1710272c1"
   },
   "outputs": [
    {
     "data": {
      "text/plain": [
       "array(['11th', 'HS-grad', 'Assoc-acdm', 'Some-college', '10th',\n",
       "       'Prof-school', '7th-8th', 'Bachelors', 'Masters', '5th-6th',\n",
       "       'Assoc-voc', '9th', 'Doctorate', '12th', '1st-4th', 'Preschool'],\n",
       "      dtype=object)"
      ]
     },
     "execution_count": 12,
     "metadata": {},
     "output_type": "execute_result"
    }
   ],
   "source": [
    "# Your code goes here!\n",
    "# adult.replace('?', pd.NA, inplace=True)\n",
    "# adult.dropna(inplace=True)"
   ]
  },
  {
   "cell_type": "markdown",
   "metadata": {
    "id": "43k5cTorCJaV"
   },
   "source": [
    "**Task:** Convert categorical features to numerical values. Split the dataset with 80-20 portion. Normalize all the data using X_train. Use the built-in Logistic Regression function and GridSearchCV to train your model, and report the parameters, train and test accuracy of the best model."
   ]
  },
  {
   "cell_type": "code",
   "execution_count": 10,
   "metadata": {
    "colab": {
     "base_uri": "https://localhost:8080/"
    },
    "id": "Agj18Lcd-vyZ",
    "outputId": "69e132a9-0249-4a21-c8f3-45247c1e17dc"
   },
   "outputs": [
    {
     "name": "stdout",
     "output_type": "stream",
     "text": [
      "Best Parameters: {'classifier__C': 0.01, 'classifier__solver': 'liblinear'}\n",
      "Train Accuracy:0.848246123227465\n",
      "Test Accuracy:0.83681592039801\n"
     ]
    }
   ],
   "source": [
    "# Your code goes here!\n",
    "X = adult.iloc[:, :-1]\n",
    "Y = adult.iloc[:, -1]\n",
    "\n",
    "# data splitting\n",
    "X_train, X_test, y_train, y_test = train_test_split(X, Y, test_size=0.2, random_state=0)\n",
    "\n",
    "# extract categorical_features\n",
    "categorical_features = X.select_dtypes(include=['object']).columns\n",
    "numeric_features = X_train.select_dtypes(include=['float64', 'int64']).columns\n",
    "\n",
    "# scaling function\n",
    "numeric_transformer = StandardScaler()\n",
    "# categorical to numeric function\n",
    "categorical_transformer = OneHotEncoder()\n",
    "\n",
    "preprocessor = ColumnTransformer(\n",
    "    transformers=[\n",
    "        ('num', numeric_transformer, numeric_features),\n",
    "        ('cat', categorical_transformer, categorical_features)\n",
    "    ])\n",
    "\n",
    "# pipeline for gridsearchcv function\n",
    "pipeline = Pipeline(steps=[('preprocessor', preprocessor),\n",
    "                           ('classifier', LogisticRegression())])\n",
    "\n",
    "# Define parameters grid for grid search\n",
    "param_grid = {\n",
    "    'classifier__C': [0.01, 0.1, 1, 10, 100],\n",
    "    'classifier__solver': ['liblinear', 'saga'],\n",
    "}\n",
    "\n",
    "# GridSearchCV\n",
    "grid_search = GridSearchCV(pipeline, param_grid, cv=5, scoring='accuracy')\n",
    "\n",
    "# fitting using gridsearch\n",
    "grid_search.fit(X_train, y_train)\n",
    "\n",
    "# driving the best model\n",
    "best_model = grid_search.best_estimator_\n",
    "\n",
    "# parameter of the best model\n",
    "print(\"Best Parameters:\", grid_search.best_params_)\n",
    "\n",
    "# train and test accuracy of the best model\n",
    "train_predictions = best_model.predict(X_train)\n",
    "train_accuracy = accuracy_score(y_train, train_predictions)\n",
    "test_predictions = best_model.predict(X_test)\n",
    "test_accuracy = accuracy_score(y_test, test_predictions)\n",
    "print(f\"Train Accuracy:{train_accuracy}\")\n",
    "print(f\"Test Accuracy:{test_accuracy}\")"
   ]
  },
  {
   "cell_type": "markdown",
   "metadata": {
    "id": "6Lzr2lqXDQ1T"
   },
   "source": [
    "**Task:** To try a different route, split X_train into $i$ parts, and train $i$ separate models on these parts. Now propose and implement 3 different *ensemble methods* to derive the global models' prediction for X_test using the results(not necessarily predictions!) of the $i$ models. Firstly, set $i=10$ to find the method with the best test accuracy(the answer is not general!). You must Use your own Logistic Regression model.(You might want to modify it a little bit for this part!)"
   ]
  },
  {
   "cell_type": "code",
   "execution_count": 171,
   "metadata": {
    "id": "K9D1jlstF9nF"
   },
   "outputs": [
    {
     "name": "stdout",
     "output_type": "stream",
     "text": [
      "Index(['workclass', 'education', 'marital-status', 'occupation',\n",
      "       'relationship', 'race', 'gender', 'native-country'],\n",
      "      dtype='object')\n"
     ]
    }
   ],
   "source": [
    "# Your code goes here!\n",
    "print(categorical_features)"
   ]
  },
  {
   "cell_type": "markdown",
   "metadata": {
    "id": "9QS9HYJ5FW1T"
   },
   "source": [
    "**Question:** Explain your proposed methods and the reason you decided to use them!"
   ]
  },
  {
   "cell_type": "markdown",
   "metadata": {
    "id": "6hCBQuAeF46a"
   },
   "source": [
    "**Your answer:**"
   ]
  },
  {
   "cell_type": "markdown",
   "metadata": {
    "id": "jjSREvg4FTHf"
   },
   "source": [
    "**Task:** Now, for your best method, change $i$ from 2 to 100 and report $i$, train and test accuracy of the best model. Also, plot test and train accuracy for $2\\leq i\\leq100$."
   ]
  },
  {
   "cell_type": "code",
   "execution_count": null,
   "metadata": {
    "id": "tfKS-Jq0-v4P"
   },
   "outputs": [],
   "source": [
    "# Your code goes here!\n"
   ]
  },
  {
   "cell_type": "markdown",
   "metadata": {
    "id": "BWV0YUgRGg1p"
   },
   "source": [
    "**Question:** Analyze the results."
   ]
  },
  {
   "cell_type": "markdown",
   "metadata": {},
   "source": [
    "**Your Answer:**"
   ]
  }
 ],
 "metadata": {
  "colab": {
   "provenance": []
  },
  "kernelspec": {
   "display_name": "Python 3 (ipykernel)",
   "language": "python",
   "name": "python3"
  },
  "language_info": {
   "codemirror_mode": {
    "name": "ipython",
    "version": 3
   },
   "file_extension": ".py",
   "mimetype": "text/x-python",
   "name": "python",
   "nbconvert_exporter": "python",
   "pygments_lexer": "ipython3",
   "version": "3.9.7"
  }
 },
 "nbformat": 4,
 "nbformat_minor": 1
}
